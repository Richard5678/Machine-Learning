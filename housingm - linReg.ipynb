{
 "cells": [
  {
   "cell_type": "code",
   "execution_count": 1,
   "id": "e06dde12",
   "metadata": {},
   "outputs": [],
   "source": [
    "import tensorflow as tf\n",
    "import torch"
   ]
  },
  {
   "cell_type": "code",
   "execution_count": 2,
   "id": "69d2e542",
   "metadata": {},
   "outputs": [],
   "source": [
    "import numpy as np\n",
    "import pandas as pd\n",
    "import matplotlib.pyplot as plt"
   ]
  },
  {
   "cell_type": "code",
   "execution_count": 3,
   "id": "17ee7c79",
   "metadata": {},
   "outputs": [
    {
     "data": {
      "text/html": [
       "<div>\n",
       "<style scoped>\n",
       "    .dataframe tbody tr th:only-of-type {\n",
       "        vertical-align: middle;\n",
       "    }\n",
       "\n",
       "    .dataframe tbody tr th {\n",
       "        vertical-align: top;\n",
       "    }\n",
       "\n",
       "    .dataframe thead th {\n",
       "        text-align: right;\n",
       "    }\n",
       "</style>\n",
       "<table border=\"1\" class=\"dataframe\">\n",
       "  <thead>\n",
       "    <tr style=\"text-align: right;\">\n",
       "      <th></th>\n",
       "      <th>url</th>\n",
       "      <th>id</th>\n",
       "      <th>Lng</th>\n",
       "      <th>Lat</th>\n",
       "      <th>Cid</th>\n",
       "      <th>tradeTime</th>\n",
       "      <th>DOM</th>\n",
       "      <th>followers</th>\n",
       "      <th>totalPrice</th>\n",
       "      <th>price</th>\n",
       "      <th>...</th>\n",
       "      <th>buildingType</th>\n",
       "      <th>constructionTime</th>\n",
       "      <th>renovationCondition</th>\n",
       "      <th>buildingStructure</th>\n",
       "      <th>ladderRatio</th>\n",
       "      <th>elevator</th>\n",
       "      <th>fiveYearsProperty</th>\n",
       "      <th>subway</th>\n",
       "      <th>district</th>\n",
       "      <th>communityAverage</th>\n",
       "    </tr>\n",
       "  </thead>\n",
       "  <tbody>\n",
       "    <tr>\n",
       "      <th>0</th>\n",
       "      <td>https://bj.lianjia.com/chengjiao/101084782030....</td>\n",
       "      <td>101084782030</td>\n",
       "      <td>116.475489</td>\n",
       "      <td>40.019520</td>\n",
       "      <td>1111027376244</td>\n",
       "      <td>2016-08-09</td>\n",
       "      <td>1464.0</td>\n",
       "      <td>106</td>\n",
       "      <td>415.0</td>\n",
       "      <td>31680</td>\n",
       "      <td>...</td>\n",
       "      <td>1.0</td>\n",
       "      <td>2005</td>\n",
       "      <td>3</td>\n",
       "      <td>6</td>\n",
       "      <td>0.217</td>\n",
       "      <td>1.0</td>\n",
       "      <td>0.0</td>\n",
       "      <td>1.0</td>\n",
       "      <td>7</td>\n",
       "      <td>56021.0</td>\n",
       "    </tr>\n",
       "    <tr>\n",
       "      <th>1</th>\n",
       "      <td>https://bj.lianjia.com/chengjiao/101086012217....</td>\n",
       "      <td>101086012217</td>\n",
       "      <td>116.453917</td>\n",
       "      <td>39.881534</td>\n",
       "      <td>1111027381879</td>\n",
       "      <td>2016-07-28</td>\n",
       "      <td>903.0</td>\n",
       "      <td>126</td>\n",
       "      <td>575.0</td>\n",
       "      <td>43436</td>\n",
       "      <td>...</td>\n",
       "      <td>1.0</td>\n",
       "      <td>2004</td>\n",
       "      <td>4</td>\n",
       "      <td>6</td>\n",
       "      <td>0.667</td>\n",
       "      <td>1.0</td>\n",
       "      <td>1.0</td>\n",
       "      <td>0.0</td>\n",
       "      <td>7</td>\n",
       "      <td>71539.0</td>\n",
       "    </tr>\n",
       "    <tr>\n",
       "      <th>2</th>\n",
       "      <td>https://bj.lianjia.com/chengjiao/101086041636....</td>\n",
       "      <td>101086041636</td>\n",
       "      <td>116.561978</td>\n",
       "      <td>39.877145</td>\n",
       "      <td>1111040862969</td>\n",
       "      <td>2016-12-11</td>\n",
       "      <td>1271.0</td>\n",
       "      <td>48</td>\n",
       "      <td>1030.0</td>\n",
       "      <td>52021</td>\n",
       "      <td>...</td>\n",
       "      <td>4.0</td>\n",
       "      <td>2005</td>\n",
       "      <td>3</td>\n",
       "      <td>6</td>\n",
       "      <td>0.500</td>\n",
       "      <td>1.0</td>\n",
       "      <td>0.0</td>\n",
       "      <td>0.0</td>\n",
       "      <td>7</td>\n",
       "      <td>48160.0</td>\n",
       "    </tr>\n",
       "    <tr>\n",
       "      <th>3</th>\n",
       "      <td>https://bj.lianjia.com/chengjiao/101086406841....</td>\n",
       "      <td>101086406841</td>\n",
       "      <td>116.438010</td>\n",
       "      <td>40.076114</td>\n",
       "      <td>1111043185817</td>\n",
       "      <td>2016-09-30</td>\n",
       "      <td>965.0</td>\n",
       "      <td>138</td>\n",
       "      <td>297.5</td>\n",
       "      <td>22202</td>\n",
       "      <td>...</td>\n",
       "      <td>1.0</td>\n",
       "      <td>2008</td>\n",
       "      <td>1</td>\n",
       "      <td>6</td>\n",
       "      <td>0.273</td>\n",
       "      <td>1.0</td>\n",
       "      <td>0.0</td>\n",
       "      <td>0.0</td>\n",
       "      <td>6</td>\n",
       "      <td>51238.0</td>\n",
       "    </tr>\n",
       "    <tr>\n",
       "      <th>4</th>\n",
       "      <td>https://bj.lianjia.com/chengjiao/101086920653....</td>\n",
       "      <td>101086920653</td>\n",
       "      <td>116.428392</td>\n",
       "      <td>39.886229</td>\n",
       "      <td>1111027381174</td>\n",
       "      <td>2016-08-28</td>\n",
       "      <td>927.0</td>\n",
       "      <td>286</td>\n",
       "      <td>392.0</td>\n",
       "      <td>48396</td>\n",
       "      <td>...</td>\n",
       "      <td>4.0</td>\n",
       "      <td>1960</td>\n",
       "      <td>2</td>\n",
       "      <td>2</td>\n",
       "      <td>0.333</td>\n",
       "      <td>0.0</td>\n",
       "      <td>1.0</td>\n",
       "      <td>1.0</td>\n",
       "      <td>1</td>\n",
       "      <td>62588.0</td>\n",
       "    </tr>\n",
       "  </tbody>\n",
       "</table>\n",
       "<p>5 rows × 26 columns</p>\n",
       "</div>"
      ],
      "text/plain": [
       "                                                 url            id  \\\n",
       "0  https://bj.lianjia.com/chengjiao/101084782030....  101084782030   \n",
       "1  https://bj.lianjia.com/chengjiao/101086012217....  101086012217   \n",
       "2  https://bj.lianjia.com/chengjiao/101086041636....  101086041636   \n",
       "3  https://bj.lianjia.com/chengjiao/101086406841....  101086406841   \n",
       "4  https://bj.lianjia.com/chengjiao/101086920653....  101086920653   \n",
       "\n",
       "          Lng        Lat            Cid   tradeTime     DOM  followers  \\\n",
       "0  116.475489  40.019520  1111027376244  2016-08-09  1464.0        106   \n",
       "1  116.453917  39.881534  1111027381879  2016-07-28   903.0        126   \n",
       "2  116.561978  39.877145  1111040862969  2016-12-11  1271.0         48   \n",
       "3  116.438010  40.076114  1111043185817  2016-09-30   965.0        138   \n",
       "4  116.428392  39.886229  1111027381174  2016-08-28   927.0        286   \n",
       "\n",
       "   totalPrice  price  ...  buildingType constructionTime renovationCondition  \\\n",
       "0       415.0  31680  ...           1.0             2005                   3   \n",
       "1       575.0  43436  ...           1.0             2004                   4   \n",
       "2      1030.0  52021  ...           4.0             2005                   3   \n",
       "3       297.5  22202  ...           1.0             2008                   1   \n",
       "4       392.0  48396  ...           4.0             1960                   2   \n",
       "\n",
       "   buildingStructure ladderRatio elevator  fiveYearsProperty subway  district  \\\n",
       "0                  6       0.217      1.0                0.0    1.0         7   \n",
       "1                  6       0.667      1.0                1.0    0.0         7   \n",
       "2                  6       0.500      1.0                0.0    0.0         7   \n",
       "3                  6       0.273      1.0                0.0    0.0         6   \n",
       "4                  2       0.333      0.0                1.0    1.0         1   \n",
       "\n",
       "   communityAverage  \n",
       "0           56021.0  \n",
       "1           71539.0  \n",
       "2           48160.0  \n",
       "3           51238.0  \n",
       "4           62588.0  \n",
       "\n",
       "[5 rows x 26 columns]"
      ]
     },
     "execution_count": 3,
     "metadata": {},
     "output_type": "execute_result"
    }
   ],
   "source": [
    "data = pd.read_csv(\"~/desktop/ml/new.csv\", encoding='ISO-8859-1', low_memory=False)\n",
    "data.head()"
   ]
  },
  {
   "cell_type": "code",
   "execution_count": 4,
   "id": "a858d69a",
   "metadata": {},
   "outputs": [],
   "source": [
    "import plotly.express as px"
   ]
  },
  {
   "cell_type": "code",
   "execution_count": 5,
   "id": "a09f3a1d",
   "metadata": {},
   "outputs": [],
   "source": [
    "#px.scatter_3d(data, x = \"square\", y = \"tradeTime\", z = \"totalPrice\")\n"
   ]
  },
  {
   "cell_type": "code",
   "execution_count": 6,
   "id": "aa0ac8ab",
   "metadata": {},
   "outputs": [],
   "source": [
    "from util import load_data, add_theta_0\n",
    "from sklearn.preprocessing import StandardScaler\n"
   ]
  },
  {
   "cell_type": "code",
   "execution_count": 7,
   "id": "b0110f13",
   "metadata": {},
   "outputs": [],
   "source": [
    "def load(file):\n",
    "    x, y = load_data(file, np.array(['square', 'tradeTime']), label='totalPrice', intialize_theta_0=False, type=\"str\")\n",
    "    #print(x)\n",
    "    x[:, 0] = [str[0:4] for str in x[:, 0]]\n",
    "    m, n = x.shape\n",
    "    #print(x[:10])\n",
    "    #print(m)\n",
    "    x = x.astype(float)\n",
    "    y = y.astype(float)\n",
    "    \n",
    "    \n",
    "\n",
    "    \n",
    "    #x = scaler.fit_transform(x)\n",
    "    \n",
    "    #y = y.reshape(-1, 1)\n",
    "    #y = scaler.fit_transform(y)\n",
    "    \n",
    "    \n",
    "    return x, y"
   ]
  },
  {
   "cell_type": "code",
   "execution_count": 126,
   "id": "2b646793",
   "metadata": {},
   "outputs": [
    {
     "data": {
      "text/plain": [
       "array([[ 1.        ,  0.73707906,  1.32799619],\n",
       "       [ 1.        ,  0.73707906, -0.27457176],\n",
       "       [ 1.        ,  0.73707906,  4.17850523],\n",
       "       ...,\n",
       "       [ 1.        ,  0.73707906, -1.35707429],\n",
       "       [ 1.        ,  0.73707906, -1.29769993],\n",
       "       [ 1.        ,  0.73707906,  0.51267828]])"
      ]
     },
     "execution_count": 126,
     "metadata": {},
     "output_type": "execute_result"
    }
   ],
   "source": [
    "x_train, y_train = load(\"new_1.csv\")\n",
    "y_train = y_train.reshape(-1, 1)\n",
    "\n",
    "scaler = StandardScaler().fit(x_train)\n",
    "x_train = scaler.transform(x_train)\n",
    "x_train = add_theta_0(x_train)\n",
    "x_train\n",
    "\n"
   ]
  },
  {
   "cell_type": "code",
   "execution_count": 156,
   "id": "bc956bc2",
   "metadata": {},
   "outputs": [],
   "source": [
    "X = tf.constant(x_train,tf.float32,name=\"X\")\n",
    "Y = tf.constant(y_train,tf.float32,name=\"Y\")\n",
    "import time\n",
    "#Using Normal Equation\n",
    "def normal_1():\n",
    "    start = time.perf_counter()\n",
    "    X_T = tf.transpose(X)\n",
    "    temp = tf.linalg.inv(tf.matmul(X_T,X))\n",
    "    theta = tf.matmul(tf.matmul(temp,X_T),Y)\n",
    "    #print(theta)\n",
    "    elapsed = time.perf_counter() - start\n",
    "    return elapsed\n",
    "\n",
    "def normal_2():\n",
    "    start = time.perf_counter()\n",
    "    theta = tf.matmul(tf.matmul(tf.linalg.inv(tf.matmul(tf.transpose(X),X)),tf.transpose(X)),Y)\n",
    "    #print(theta)\n",
    "    elapsed = time.perf_counter() - start\n",
    "    return elapsed"
   ]
  },
  {
   "cell_type": "code",
   "execution_count": 157,
   "id": "54b0c488",
   "metadata": {},
   "outputs": [
    {
     "name": "stdout",
     "output_type": "stream",
     "text": [
      "sum1 0.015269809850360616\n",
      "sum2 0.022575512271068875\n"
     ]
    }
   ],
   "source": [
    "sum1 = 0\n",
    "sum2 = 0\n",
    "for i in range(1000):\n",
    "    sum1 += normal_1()\n",
    "    sum2 += normal_2()\n",
    "\n",
    "print(\"sum1\", sum1 / 1000)\n",
    "print(\"sum2\", sum2 / 1000)"
   ]
  },
  {
   "cell_type": "code",
   "execution_count": 158,
   "id": "127b8de3",
   "metadata": {},
   "outputs": [
    {
     "data": {
      "text/plain": [
       "<tf.Tensor: shape=(95655, 3), dtype=float32, numpy=\n",
       "array([[ 1.        ,  0.7370791 ,  1.3279961 ],\n",
       "       [ 1.        ,  0.7370791 , -0.27457175],\n",
       "       [ 1.        ,  0.7370791 ,  4.1785054 ],\n",
       "       ...,\n",
       "       [ 1.        ,  0.7370791 , -1.3570743 ],\n",
       "       [ 1.        ,  0.7370791 , -1.2976999 ],\n",
       "       [ 1.        ,  0.7370791 ,  0.51267827]], dtype=float32)>"
      ]
     },
     "execution_count": 158,
     "metadata": {},
     "output_type": "execute_result"
    }
   ],
   "source": [
    "from sklearn.preprocessing import StandardScaler\n",
    "\n",
    "n_epoch = 100000\n",
    "learning_rate = 0.1\n",
    "m, n = x_train.shape\n",
    "\n",
    "y_train = y_train.reshape(-1, 1)\n",
    "X = tf.constant(x_train, dtype = tf.float32, name = \"Scaled Features\")\n",
    "\n",
    "theta = tf.Variable((tf.random.uniform([3, 1], -1.0, 1.0)), name = \"theta\")\n",
    "#theta = tf.Variable(([[0.], [0.], [0.]]), name = \"theta\")\n",
    "\n",
    "X"
   ]
  },
  {
   "cell_type": "code",
   "execution_count": 159,
   "id": "3d89466b",
   "metadata": {},
   "outputs": [
    {
     "name": "stdout",
     "output_type": "stream",
     "text": [
      "Epoch:  0 MSE:  tf.Tensor(173563.45, shape=(), dtype=float32)\n",
      "Epoch:  100 MSE:  tf.Tensor(26707.95, shape=(), dtype=float32)\n",
      "Epoch:  200 MSE:  tf.Tensor(26695.125, shape=(), dtype=float32)\n",
      "Epoch:  300 MSE:  tf.Tensor(26695.123, shape=(), dtype=float32)\n",
      "tf.Tensor(\n",
      "[[349.0764  ]\n",
      " [ 91.484474]\n",
      " [129.80608 ]], shape=(3, 1), dtype=float32)\n",
      "Epoch:  343 MSE:  tf.Tensor(26695.123, shape=(), dtype=float32)\n",
      "343\n",
      "Elapsed 1.424 seconds.\n"
     ]
    }
   ],
   "source": [
    "import time\n",
    "start = time.perf_counter()\n",
    "\n",
    "for epoch in range(n_epoch):\n",
    "   y_pred = tf.matmul(X, theta, name = \"predictions\")\n",
    "\n",
    "   error = y_pred - y_train\n",
    "   \n",
    "   mse = tf.reduce_mean(tf.square(error), name = \"mse\")\n",
    "   #gradients = 1/m * tf.matmul(tf.transpose(X), error)\n",
    "   theta_old = theta\n",
    "   #theta = theta - learning_rate * gradients\n",
    "   theta = theta + learning_rate /  (epoch / 500 + 1) * tf.transpose(X) @ (y_train - X @ theta) / m\n",
    "  \n",
    "   if (np.linalg.norm(theta_old - theta) < 0.00001):\n",
    "        print(theta)\n",
    "        print(\"Epoch: \", epoch, \"MSE: \", mse)\n",
    "        print(epoch)\n",
    "        break\n",
    "   if epoch % 100 == 0:\n",
    "        #print(\"1\", learning_rate * gradients)\n",
    "        #print(\"2\", learning_rate * tf.transpose(X) @ (y_train - X @ theta) / m)\n",
    "        print(\"Epoch: \", epoch, \"MSE: \", mse)\n",
    "\n",
    "\n",
    "elapsed = time.perf_counter() - start\n",
    "print('Elapsed %.3f seconds.' % elapsed)"
   ]
  },
  {
   "cell_type": "code",
   "execution_count": null,
   "id": "d12ebe65",
   "metadata": {},
   "outputs": [],
   "source": [
    "dd"
   ]
  },
  {
   "cell_type": "code",
   "execution_count": 36,
   "id": "570b5e24",
   "metadata": {},
   "outputs": [],
   "source": [
    "x_test, y_test = load(\"new_2.csv\")\n",
    "\n",
    "x_test = scaler.transform(x_test)\n",
    "x_test = add_theta_0(x_test)\n",
    "\n",
    "y_test = y_test.reshape(-1, 1)"
   ]
  },
  {
   "cell_type": "code",
   "execution_count": 37,
   "id": "feb98c40",
   "metadata": {},
   "outputs": [
    {
     "data": {
      "text/plain": [
       "27550.87"
      ]
     },
     "execution_count": 37,
     "metadata": {},
     "output_type": "execute_result"
    }
   ],
   "source": [
    "a = x_test @ theta\n",
    "np.mean((a - y_test)**2)"
   ]
  },
  {
   "cell_type": "code",
   "execution_count": null,
   "id": "2a3d43a2",
   "metadata": {},
   "outputs": [],
   "source": [
    "from tensorflow.keras.models import Sequential\n",
    "from tensorflow.keras.layers import Dense\n",
    "from tensorflow.keras.callbacks import LambdaCallback\n",
    "\n",
    "model = Sequential()\n",
    "model.add(Dense(1, input_dim = 2))\n",
    "\n",
    "print_weights = LambdaCallback(on_epoch_end=lambda batch, logs: print(model.layers[0].get_weights(), model.layers[0].get_weights()[1]))\n",
    "\n",
    "model.compile(loss = 'mse')\n",
    "model.fit(x = x_train, y = y_train, epochs = 20, verbose = 1,callbacks = [print_weights])"
   ]
  }
 ],
 "metadata": {
  "kernelspec": {
   "display_name": "Python 3 (ipykernel)",
   "language": "python",
   "name": "python3"
  },
  "language_info": {
   "codemirror_mode": {
    "name": "ipython",
    "version": 3
   },
   "file_extension": ".py",
   "mimetype": "text/x-python",
   "name": "python",
   "nbconvert_exporter": "python",
   "pygments_lexer": "ipython3",
   "version": "3.9.6"
  }
 },
 "nbformat": 4,
 "nbformat_minor": 5
}
