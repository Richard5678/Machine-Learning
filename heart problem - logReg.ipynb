{
 "cells": [
  {
   "cell_type": "code",
   "execution_count": 1,
   "id": "1ed1898e",
   "metadata": {},
   "outputs": [],
   "source": [
    "import tensorflow as tf"
   ]
  },
  {
   "cell_type": "code",
   "execution_count": 2,
   "id": "779ef3b7",
   "metadata": {},
   "outputs": [],
   "source": [
    "import numpy as np\n",
    "import pandas as pd"
   ]
  },
  {
   "cell_type": "code",
   "execution_count": 3,
   "id": "61b87c3d",
   "metadata": {},
   "outputs": [
    {
     "data": {
      "text/html": [
       "<div>\n",
       "<style scoped>\n",
       "    .dataframe tbody tr th:only-of-type {\n",
       "        vertical-align: middle;\n",
       "    }\n",
       "\n",
       "    .dataframe tbody tr th {\n",
       "        vertical-align: top;\n",
       "    }\n",
       "\n",
       "    .dataframe thead th {\n",
       "        text-align: right;\n",
       "    }\n",
       "</style>\n",
       "<table border=\"1\" class=\"dataframe\">\n",
       "  <thead>\n",
       "    <tr style=\"text-align: right;\">\n",
       "      <th></th>\n",
       "      <th>Age</th>\n",
       "      <th>Sex</th>\n",
       "      <th>ChestPainType</th>\n",
       "      <th>RestingBP</th>\n",
       "      <th>Cholesterol</th>\n",
       "      <th>FastingBS</th>\n",
       "      <th>RestingECG</th>\n",
       "      <th>MaxHR</th>\n",
       "      <th>ExerciseAngina</th>\n",
       "      <th>Oldpeak</th>\n",
       "      <th>ST_Slope</th>\n",
       "      <th>HeartDisease</th>\n",
       "    </tr>\n",
       "  </thead>\n",
       "  <tbody>\n",
       "    <tr>\n",
       "      <th>0</th>\n",
       "      <td>40</td>\n",
       "      <td>M</td>\n",
       "      <td>ATA</td>\n",
       "      <td>140</td>\n",
       "      <td>289</td>\n",
       "      <td>0</td>\n",
       "      <td>Normal</td>\n",
       "      <td>172</td>\n",
       "      <td>N</td>\n",
       "      <td>0.0</td>\n",
       "      <td>Up</td>\n",
       "      <td>0</td>\n",
       "    </tr>\n",
       "    <tr>\n",
       "      <th>1</th>\n",
       "      <td>49</td>\n",
       "      <td>F</td>\n",
       "      <td>NAP</td>\n",
       "      <td>160</td>\n",
       "      <td>180</td>\n",
       "      <td>0</td>\n",
       "      <td>Normal</td>\n",
       "      <td>156</td>\n",
       "      <td>N</td>\n",
       "      <td>1.0</td>\n",
       "      <td>Flat</td>\n",
       "      <td>1</td>\n",
       "    </tr>\n",
       "    <tr>\n",
       "      <th>2</th>\n",
       "      <td>37</td>\n",
       "      <td>M</td>\n",
       "      <td>ATA</td>\n",
       "      <td>130</td>\n",
       "      <td>283</td>\n",
       "      <td>0</td>\n",
       "      <td>ST</td>\n",
       "      <td>98</td>\n",
       "      <td>N</td>\n",
       "      <td>0.0</td>\n",
       "      <td>Up</td>\n",
       "      <td>0</td>\n",
       "    </tr>\n",
       "    <tr>\n",
       "      <th>3</th>\n",
       "      <td>48</td>\n",
       "      <td>F</td>\n",
       "      <td>ASY</td>\n",
       "      <td>138</td>\n",
       "      <td>214</td>\n",
       "      <td>0</td>\n",
       "      <td>Normal</td>\n",
       "      <td>108</td>\n",
       "      <td>Y</td>\n",
       "      <td>1.5</td>\n",
       "      <td>Flat</td>\n",
       "      <td>1</td>\n",
       "    </tr>\n",
       "    <tr>\n",
       "      <th>4</th>\n",
       "      <td>54</td>\n",
       "      <td>M</td>\n",
       "      <td>NAP</td>\n",
       "      <td>150</td>\n",
       "      <td>195</td>\n",
       "      <td>0</td>\n",
       "      <td>Normal</td>\n",
       "      <td>122</td>\n",
       "      <td>N</td>\n",
       "      <td>0.0</td>\n",
       "      <td>Up</td>\n",
       "      <td>0</td>\n",
       "    </tr>\n",
       "  </tbody>\n",
       "</table>\n",
       "</div>"
      ],
      "text/plain": [
       "   Age Sex ChestPainType  RestingBP  Cholesterol  FastingBS RestingECG  MaxHR  \\\n",
       "0   40   M           ATA        140          289          0     Normal    172   \n",
       "1   49   F           NAP        160          180          0     Normal    156   \n",
       "2   37   M           ATA        130          283          0         ST     98   \n",
       "3   48   F           ASY        138          214          0     Normal    108   \n",
       "4   54   M           NAP        150          195          0     Normal    122   \n",
       "\n",
       "  ExerciseAngina  Oldpeak ST_Slope  HeartDisease  \n",
       "0              N      0.0       Up             0  \n",
       "1              N      1.0     Flat             1  \n",
       "2              N      0.0       Up             0  \n",
       "3              Y      1.5     Flat             1  \n",
       "4              N      0.0       Up             0  "
      ]
     },
     "execution_count": 3,
     "metadata": {},
     "output_type": "execute_result"
    }
   ],
   "source": [
    "# overview of the data\n",
    "data = pd.read_csv(\"heart.csv\")\n",
    "data.head()"
   ]
  },
  {
   "cell_type": "code",
   "execution_count": 4,
   "id": "cd8c42db",
   "metadata": {},
   "outputs": [
    {
     "name": "stdout",
     "output_type": "stream",
     "text": [
      "col: 1\n",
      "M    725\n",
      "F    193\n",
      "dtype: int64\n",
      "\n",
      "col: 2\n",
      "ASY    496\n",
      "NAP    203\n",
      "ATA    173\n",
      "TA      46\n",
      "dtype: int64\n",
      "\n",
      "col: 6\n",
      "Normal    552\n",
      "LVH       188\n",
      "ST        178\n",
      "dtype: int64\n",
      "\n",
      "col: 8\n",
      "N    547\n",
      "Y    371\n",
      "dtype: int64\n",
      "\n",
      "col: 10\n",
      "Flat    460\n",
      "Up      395\n",
      "Down     63\n",
      "dtype: int64\n",
      "\n"
     ]
    }
   ],
   "source": [
    "# get a summary of the number of discrete values in each str column\n",
    "index = [1, 2, 6, 8, 10]\n",
    "df = np.loadtxt('heart.csv', delimiter=',', skiprows=1, usecols = index, dtype = \"str\")\n",
    "\n",
    "for i in range(5):\n",
    "    print(\"col:\", index[i])\n",
    "    print(pd.Series(df[:, i]).value_counts(), end=\"\\n\\n\")\n",
    "\n",
    "    "
   ]
  },
  {
   "cell_type": "code",
   "execution_count": 5,
   "id": "e7026767",
   "metadata": {},
   "outputs": [
    {
     "name": "stdout",
     "output_type": "stream",
     "text": [
      "x shape: (918, 12)\n",
      "[[ 1.         -1.4331398   0.51595242 ... -0.8235563  -0.83243239\n",
      "  -1.05211381]\n",
      " [ 1.         -0.47848359 -1.93816322 ... -0.8235563   0.10566353\n",
      "   0.59607813]\n",
      " [ 1.         -1.75135854  0.51595242 ... -0.8235563  -0.83243239\n",
      "  -1.05211381]\n",
      " ...\n",
      " [ 1.          0.37009972  0.51595242 ...  1.21424608  0.29328271\n",
      "   0.59607813]\n",
      " [ 1.          0.37009972 -1.93816322 ... -0.8235563  -0.83243239\n",
      "   0.59607813]\n",
      " [ 1.         -1.64528563  0.51595242 ... -0.8235563  -0.83243239\n",
      "  -1.05211381]]\n",
      "y shape: (918,)\n"
     ]
    }
   ],
   "source": [
    "from util import load_data, add_theta_0\n",
    "from sklearn.preprocessing import StandardScaler\n",
    "\n",
    "# load data\n",
    "x = np.loadtxt(\"heart.csv\", usecols = range(11), skiprows = 1, dtype = \"str\", delimiter=',')\n",
    "y = np.loadtxt(\"heart.csv\", usecols = range(11, 12), skiprows = 1, dtype = \"str\", delimiter=',')\n",
    "\n",
    "# convert str into int\n",
    "m, n = x.shape\n",
    "d0 = {\"M\": 1, \"F\": 0}\n",
    "d1 = {\"ASY\": 1, \"NAP\": 2, \"ATA\": 3, \"TA\": 4}\n",
    "d2 = {\"Normal\": 1, \"ST\": 2, \"LVH\": 3}\n",
    "d3 = {\"Y\": 1, \"N\": 0}\n",
    "d4 = {\"Up\": 1, \"Flat\": 2, \"Down\": 3}\n",
    "for i in range(m):\n",
    "    x[i, 1] = d0[x[i, 1]]\n",
    "    x[i, 2] = d1[x[i, 2]]\n",
    "    x[i, 6] = d2[x[i, 6]]\n",
    "    x[i, 8] = d3[x[i, 8]]\n",
    "    x[i, 10] = d4[x[i, 10]]\n",
    "    \n",
    "x = x.astype(float)\n",
    "y = y.astype(float)\n",
    "\n",
    "# feature scaling\n",
    "scaler = StandardScaler().fit(x)\n",
    "x = scaler.transform(x)\n",
    "\n",
    "# add intercept\n",
    "x = add_theta_0(x)\n",
    "\n",
    "print(\"x shape:\", x.shape)\n",
    "print(x)\n",
    "print(\"y shape:\", y.shape)"
   ]
  },
  {
   "cell_type": "code",
   "execution_count": 13,
   "id": "4b689d22",
   "metadata": {},
   "outputs": [],
   "source": [
    "from sklearn.preprocessing import StandardScaler\n",
    "\n",
    "# define variables for gradient descent\n",
    "n_epoch = 100000\n",
    "learning_rate = 0.1\n",
    "m, n = x.shape\n",
    "\n",
    "X = tf.constant(x, dtype = tf.float32, name = \"Scaled Features\")\n",
    "y = y.reshape(-1, 1)\n",
    "theta = tf.Variable((tf.random.uniform([12, 1], -1.0, 1.0)), name = \"theta\")\n"
   ]
  },
  {
   "cell_type": "code",
   "execution_count": 7,
   "id": "6dff6b7c",
   "metadata": {},
   "outputs": [],
   "source": [
    "# print the the percentage of examples that the model correctly classifies (in decimal)\n",
    "def correct_rate(theta, X, m, y, mse):\n",
    "    pred = 1 / (1 + tf.math.exp(- X @ theta))\n",
    "    pred = pred > 0.5\n",
    "    sum = 0\n",
    "    for i in range(m):\n",
    "        sum += int(y[i][0] == int(pred[i][0]))\n",
    "    print(\"Epoch: \", epoch, \"correct rate: \", sum / m, \" mse:\", mse)"
   ]
  },
  {
   "cell_type": "code",
   "execution_count": 8,
   "id": "afcff661",
   "metadata": {},
   "outputs": [
    {
     "name": "stdout",
     "output_type": "stream",
     "text": [
      "Epoch:  0 correct rate:  0.28649237472766886  mse: tf.Tensor(692.3969, shape=(), dtype=float32)\n",
      "Epoch:  100 correct rate:  0.8387799564270153  mse: tf.Tensor(109.093796, shape=(), dtype=float32)\n",
      "Epoch:  200 correct rate:  0.8572984749455338  mse: tf.Tensor(155.92836, shape=(), dtype=float32)\n",
      "Epoch:  300 correct rate:  0.8572984749455338  mse: tf.Tensor(183.23137, shape=(), dtype=float32)\n",
      "Epoch:  400 correct rate:  0.8562091503267973  mse: tf.Tensor(203.11433, shape=(), dtype=float32)\n",
      "Epoch:  500 correct rate:  0.8572984749455338  mse: tf.Tensor(217.45157, shape=(), dtype=float32)\n",
      "Epoch:  600 correct rate:  0.8562091503267973  mse: tf.Tensor(227.58604, shape=(), dtype=float32)\n",
      "Epoch:  700 correct rate:  0.8572984749455338  mse: tf.Tensor(234.70294, shape=(), dtype=float32)\n",
      "Epoch:  800 correct rate:  0.8572984749455338  mse: tf.Tensor(239.71642, shape=(), dtype=float32)\n",
      "Epoch:  900 correct rate:  0.8562091503267973  mse: tf.Tensor(243.28006, shape=(), dtype=float32)\n",
      "Epoch:  1000 correct rate:  0.8562091503267973  mse: tf.Tensor(245.84283, shape=(), dtype=float32)\n",
      "Epoch:  1100 correct rate:  0.855119825708061  mse: tf.Tensor(247.70949, shape=(), dtype=float32)\n",
      "Epoch:  1200 correct rate:  0.855119825708061  mse: tf.Tensor(249.08757, shape=(), dtype=float32)\n",
      "Epoch:  1300 correct rate:  0.855119825708061  mse: tf.Tensor(250.11769, shape=(), dtype=float32)\n",
      "Epoch:  1400 correct rate:  0.855119825708061  mse: tf.Tensor(250.89793, shape=(), dtype=float32)\n",
      "Epoch:  1500 correct rate:  0.8562091503267973  mse: tf.Tensor(251.49562, shape=(), dtype=float32)\n",
      "tf.Tensor(\n",
      "[[ 0.41676438]\n",
      " [ 0.12373376]\n",
      " [ 0.52943385]\n",
      " [-0.67698485]\n",
      " [ 0.08497091]\n",
      " [-0.346658  ]\n",
      " [ 0.4543423 ]\n",
      " [ 0.06081634]\n",
      " [-0.2064464 ]\n",
      " [ 0.51834226]\n",
      " [ 0.3720741 ]\n",
      " [ 0.99753726]], shape=(12, 1), dtype=float32)\n",
      "Epoch:  1587 correct rate:  0.8562091503267973  mse: tf.Tensor(251.90446, shape=(), dtype=float32)\n"
     ]
    }
   ],
   "source": [
    "# perform gradient descent\n",
    "for epoch in range(n_epoch):\n",
    "    y_pred = 1 + tf.math.exp(- X @ theta)\n",
    "    error = y_pred - y\n",
    "\n",
    "    mse = tf.reduce_mean(tf.square(error), name = \"mse\")\n",
    "    theta_old = theta\n",
    "    \n",
    "    # update paramter theta\n",
    "    theta = theta + learning_rate /  (epoch / 1000 + 1) * tf.transpose(X) @ (y - 1 / (1 + tf.math.exp(- X @ theta))) / m\n",
    "  \n",
    "    # end loop if the updated theta is within 1e-5 of the old theta\n",
    "    if (np.linalg.norm(theta_old - theta) < 0.00001):\n",
    "        print(theta)\n",
    "        correct_rate(theta, X, m, y, mse)\n",
    "\n",
    "        break\n",
    "        \n",
    "    # print correct classification rate every 100 updates\n",
    "    if epoch % 100 == 0:\n",
    "        correct_rate(theta, X, m, y, mse)\n",
    "        \n",
    "        "
   ]
  },
  {
   "cell_type": "code",
   "execution_count": 9,
   "id": "a388dab9",
   "metadata": {},
   "outputs": [],
   "source": [
    "# alternatively, train a logistic regression model using sklearn library\n",
    "from sklearn.linear_model import LogisticRegression\n",
    "\n",
    "y = y.reshape(-1,)\n",
    "log_reg = LogisticRegression()\n",
    "log_reg.fit(x, y)\n",
    "threshold = 0.5"
   ]
  },
  {
   "cell_type": "code",
   "execution_count": 10,
   "id": "3aa40c11",
   "metadata": {},
   "outputs": [
    {
     "name": "stdout",
     "output_type": "stream",
     "text": [
      "[0.86956522 0.76086957 0.91304348 0.86956522 0.95652174 0.86956522\n",
      " 0.93478261 0.91304348 0.93478261 0.7173913  0.84782609 0.7826087\n",
      " 0.82608696 0.95652174 0.82608696 0.76086957 0.7826087  0.73913043\n",
      " 0.8        0.8       ]\n",
      "mean: 0.8430434782608696\n"
     ]
    }
   ],
   "source": [
    "# perform a 20-fold cross validation\n",
    "from sklearn.model_selection import cross_val_score\n",
    "scores = cross_val_score(log_reg, x, y, cv=20)\n",
    "print(scores)\n",
    "print(\"mean:\", np.mean(scores))"
   ]
  },
  {
   "cell_type": "code",
   "execution_count": 11,
   "id": "b43ae4a9",
   "metadata": {},
   "outputs": [
    {
     "name": "stdout",
     "output_type": "stream",
     "text": [
      "Correct rate on train set: 0.8562091503267973\n"
     ]
    }
   ],
   "source": [
    "score = log_reg.score(x, y)\n",
    "print(\"Correct rate on train set:\", score)"
   ]
  },
  {
   "cell_type": "code",
   "execution_count": 12,
   "id": "f1c760a5",
   "metadata": {},
   "outputs": [
    {
     "data": {
      "text/plain": [
       "0.8478260869565217"
      ]
     },
     "execution_count": 12,
     "metadata": {},
     "output_type": "execute_result"
    }
   ],
   "source": [
    "# perform hold-out cross validation with 70% of the data in the training set\n",
    "from sklearn.model_selection import train_test_split\n",
    "x_train, x_test, y_train, y_test = train_test_split(x, y, test_size=0.3, random_state=0)\n",
    "logReg = LogisticRegression()\n",
    "logReg.fit(x_train, y_train)\n",
    "logReg.score(x_test, y_test)"
   ]
  }
 ],
 "metadata": {
  "kernelspec": {
   "display_name": "Python 3 (ipykernel)",
   "language": "python",
   "name": "python3"
  },
  "language_info": {
   "codemirror_mode": {
    "name": "ipython",
    "version": 3
   },
   "file_extension": ".py",
   "mimetype": "text/x-python",
   "name": "python",
   "nbconvert_exporter": "python",
   "pygments_lexer": "ipython3",
   "version": "3.9.6"
  }
 },
 "nbformat": 4,
 "nbformat_minor": 5
}
