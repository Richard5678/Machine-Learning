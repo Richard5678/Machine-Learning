{
 "cells": [
  {
   "cell_type": "code",
   "execution_count": 4,
   "id": "ff747202",
   "metadata": {},
   "outputs": [
    {
     "name": "stdout",
     "output_type": "stream",
     "text": [
      "[['2016-07-28' '132.38']\n",
      " ['2016-07-14' '73.0']\n",
      " ['2016-08-25' '238.0']\n",
      " ...\n",
      " ['2016-06-10' '32.89']\n",
      " ['2016-06-10' '35.09']\n",
      " ['2016-06-05' '102.17']]\n"
     ]
    },
    {
     "ename": "RuntimeError",
     "evalue": "tf.placeholder() is not compatible with eager execution.",
     "output_type": "error",
     "traceback": [
      "\u001b[0;31m---------------------------------------------------------------------------\u001b[0m",
      "\u001b[0;31mRuntimeError\u001b[0m                              Traceback (most recent call last)",
      "\u001b[0;32m/var/folders/vq/5w9drp693t51zt38dkdcy9bc0000gn/T/ipykernel_10287/2502745354.py\u001b[0m in \u001b[0;36m<module>\u001b[0;34m\u001b[0m\n\u001b[1;32m     41\u001b[0m \u001b[0;34m\u001b[0m\u001b[0m\n\u001b[1;32m     42\u001b[0m \u001b[0;31m# Define data placeholders\u001b[0m\u001b[0;34m\u001b[0m\u001b[0;34m\u001b[0m\u001b[0;34m\u001b[0m\u001b[0m\n\u001b[0;32m---> 43\u001b[0;31m \u001b[0mx\u001b[0m \u001b[0;34m=\u001b[0m \u001b[0mtf\u001b[0m\u001b[0;34m.\u001b[0m\u001b[0mplaceholder\u001b[0m\u001b[0;34m(\u001b[0m\u001b[0mtf\u001b[0m\u001b[0;34m.\u001b[0m\u001b[0mfloat32\u001b[0m\u001b[0;34m,\u001b[0m \u001b[0mshape\u001b[0m\u001b[0;34m=\u001b[0m\u001b[0;34m(\u001b[0m\u001b[0mn\u001b[0m\u001b[0;34m,\u001b[0m \u001b[0;32mNone\u001b[0m\u001b[0;34m)\u001b[0m\u001b[0;34m)\u001b[0m\u001b[0;34m\u001b[0m\u001b[0;34m\u001b[0m\u001b[0m\n\u001b[0m\u001b[1;32m     44\u001b[0m \u001b[0my\u001b[0m \u001b[0;34m=\u001b[0m \u001b[0mtf\u001b[0m\u001b[0;34m.\u001b[0m\u001b[0mplaceholder\u001b[0m\u001b[0;34m(\u001b[0m\u001b[0mtf\u001b[0m\u001b[0;34m.\u001b[0m\u001b[0mfloat32\u001b[0m\u001b[0;34m,\u001b[0m \u001b[0mshape\u001b[0m\u001b[0;34m=\u001b[0m\u001b[0;34m(\u001b[0m\u001b[0;36m1\u001b[0m\u001b[0;34m,\u001b[0m \u001b[0;32mNone\u001b[0m\u001b[0;34m)\u001b[0m\u001b[0;34m)\u001b[0m\u001b[0;34m\u001b[0m\u001b[0;34m\u001b[0m\u001b[0m\n\u001b[1;32m     45\u001b[0m \u001b[0;34m\u001b[0m\u001b[0m\n",
      "\u001b[0;32m~/jupyter/lib/python3.9/site-packages/tensorflow/python/ops/array_ops.py\u001b[0m in \u001b[0;36mplaceholder\u001b[0;34m(dtype, shape, name)\u001b[0m\n\u001b[1;32m   3280\u001b[0m   \"\"\"\n\u001b[1;32m   3281\u001b[0m   \u001b[0;32mif\u001b[0m \u001b[0mcontext\u001b[0m\u001b[0;34m.\u001b[0m\u001b[0mexecuting_eagerly\u001b[0m\u001b[0;34m(\u001b[0m\u001b[0;34m)\u001b[0m\u001b[0;34m:\u001b[0m\u001b[0;34m\u001b[0m\u001b[0;34m\u001b[0m\u001b[0m\n\u001b[0;32m-> 3282\u001b[0;31m     raise RuntimeError(\"tf.placeholder() is not compatible with \"\n\u001b[0m\u001b[1;32m   3283\u001b[0m                        \"eager execution.\")\n\u001b[1;32m   3284\u001b[0m \u001b[0;34m\u001b[0m\u001b[0m\n",
      "\u001b[0;31mRuntimeError\u001b[0m: tf.placeholder() is not compatible with eager execution."
     ]
    }
   ],
   "source": [
    "import numpy as np\n",
    "#import tensorflow as tf\n",
    "import tensorflow.compat.v1 as tf\n",
    "import pandas as pd\n",
    "import matplotlib.pyplot as plt\n",
    "from util import load_data\n",
    "\n",
    "# First we load the entire CSV file into an m x n matrix\n",
    "#D = np.matrix(pd.read_csv(\"linreg-scaling-synthetic.csv\", header=None).values)\n",
    "def load(file):\n",
    "    x, y = load_data(file, np.array(['square', 'tradeTime']), label='totalPrice', intialize_theta_0=False, type=\"str\")\n",
    "    print(x)\n",
    "    x[:, 0] = [str[0:4] for str in x[:, 0]]\n",
    "    m, n = x.shape\n",
    "    #print(x[:10])\n",
    "    #print(m)\n",
    "    x = x.astype(float)\n",
    "    y = y.astype(float)\n",
    "    \n",
    "    #scaler = StandardScaler()\n",
    "    #x = scaler.fit_transform(x)\n",
    "    \n",
    "    #x = add_theta_0(x)\n",
    "\n",
    "    return x, y\n",
    "\n",
    "x_data, y_data = load(\"new_1.csv\")\n",
    "\n",
    "# Make a convenient variable to remember the number of input columns\n",
    "n = 2\n",
    "\n",
    "# We extract all rows and the first n columns into X_data\n",
    "# Then we flip it\n",
    "#X_data = D[:, 0:n].transpose()\n",
    "\n",
    "# We extract all rows and the last column into y_data\n",
    "# Then we flip it\n",
    "#y_data = D[:, n].transpose()\n",
    "\n",
    "\n",
    "\n",
    "# Define data placeholders\n",
    "x = tf.placeholder(tf.float32, shape=(n, None))\n",
    "y = tf.placeholder(tf.float32, shape=(1, None))\n",
    "\n",
    "# Define trainable variables\n",
    "A = tf.get_variable(\"A\", shape=(1, n))\n",
    "b = tf.get_variable(\"b\", shape=())\n",
    "\n",
    "# Define model output\n",
    "y_predicted = tf.matmul(A, x) + b\n",
    "\n",
    "# Define the loss function\n",
    "L = tf.reduce_sum((y_predicted - y)**2)\n",
    "\n",
    "# Define optimizer object\n",
    "optimizer = tf.train.AdamOptimizer(learning_rate=0.1).minimize(L)\n",
    "\n",
    "# Create a session and initialize variables\n",
    "session = tf.Session()\n",
    "session.run(tf.global_variables_initializer())\n",
    "\n",
    "# Main optimization loop\n",
    "for t in range(2000):\n",
    "    _, current_loss, current_A, current_b = session.run([optimizer, L, A, b], feed_dict={\n",
    "        x: X_data,\n",
    "        y: y_data\n",
    "    })\n",
    "    print(\"t = %g, loss = %g, A = %s, b = %g\" % (t, current_loss, str(current_A), current_b))\n"
   ]
  },
  {
   "cell_type": "code",
   "execution_count": null,
   "id": "d52d5366",
   "metadata": {},
   "outputs": [],
   "source": []
  }
 ],
 "metadata": {
  "kernelspec": {
   "display_name": "Python 3 (ipykernel)",
   "language": "python",
   "name": "python3"
  },
  "language_info": {
   "codemirror_mode": {
    "name": "ipython",
    "version": 3
   },
   "file_extension": ".py",
   "mimetype": "text/x-python",
   "name": "python",
   "nbconvert_exporter": "python",
   "pygments_lexer": "ipython3",
   "version": "3.9.6"
  }
 },
 "nbformat": 4,
 "nbformat_minor": 5
}
